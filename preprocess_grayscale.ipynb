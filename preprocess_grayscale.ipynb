{
 "cells": [
  {
   "cell_type": "code",
   "execution_count": 1,
   "metadata": {
    "collapsed": true
   },
   "outputs": [],
   "source": [
    "import numpy as np\n",
    "from PIL import Image\n",
    "from random import shuffle"
   ]
  },
  {
   "cell_type": "code",
   "execution_count": 2,
   "metadata": {
    "collapsed": false
   },
   "outputs": [],
   "source": [
    "from matplotlib.pyplot import imshow\n",
    "%matplotlib inline"
   ]
  },
  {
   "cell_type": "code",
   "execution_count": 3,
   "metadata": {
    "collapsed": true
   },
   "outputs": [],
   "source": [
    "import os"
   ]
  },
  {
   "cell_type": "code",
   "execution_count": 4,
   "metadata": {
    "collapsed": true
   },
   "outputs": [],
   "source": [
    "import glob"
   ]
  },
  {
   "cell_type": "code",
   "execution_count": 5,
   "metadata": {
    "collapsed": true
   },
   "outputs": [],
   "source": [
    "def get_image_label(img_path):\n",
    "    file_name = os.path.basename(img_path)\n",
    "    label = file_name.split(\".\")[0]\n",
    "    if label == \"cat\":\n",
    "        return [1,0]\n",
    "    else:\n",
    "        return [0,1]"
   ]
  },
  {
   "cell_type": "code",
   "execution_count": 6,
   "metadata": {
    "collapsed": true
   },
   "outputs": [],
   "source": [
    "def create_training_data():\n",
    "    training_data = []\n",
    "    all_train_images = glob.glob(\"./data/train/*.jpg\")\n",
    "#     all_train_images = all_train_images[:200]\n",
    "    count = 0\n",
    "    total = len(all_train_images)\n",
    "    for img_path in all_train_images:\n",
    "        if count%2000 == 0:\n",
    "            print(\"Current: \" +str(count+1)+\"/\"+str(total))\n",
    "        label = get_image_label(img_path)\n",
    "        img = Image.open(img_path).convert('L')\n",
    "        img = img.resize((224,224), Image.ANTIALIAS)\n",
    "#         training_data = np.concatenate((training_data, [np.array(img),np.array(label)]))\n",
    "        training_data.append([np.array(img),np.array(label)])\n",
    "        count+=1\n",
    "    training_data= np.array(training_data)\n",
    "    shuffle(training_data)\n",
    "    print(\"Saving data\")\n",
    "    np.save(\"./data/training_data.npy\", training_data)\n",
    "    return training_data"
   ]
  },
  {
   "cell_type": "code",
   "execution_count": 7,
   "metadata": {
    "collapsed": true
   },
   "outputs": [],
   "source": [
    "def get_image_num(img_path):\n",
    "    file_name = os.path.basename(img_path)\n",
    "    img_num = file_name.split(\".\")[0]\n",
    "    return img_num"
   ]
  },
  {
   "cell_type": "code",
   "execution_count": 8,
   "metadata": {
    "collapsed": true
   },
   "outputs": [],
   "source": [
    "def create_test_data():\n",
    "    test_data = []\n",
    "    all_test_images = glob.glob(\"./data/test/*.jpg\")\n",
    "    count = 0\n",
    "    total = len(all_test_images)\n",
    "    for img_path in all_test_images:\n",
    "        if count%1000 == 0:\n",
    "            print(\"Current: \" +str(count+1)+\"/\"+str(total))\n",
    "        #file_name = os.path.basename(img_path)\n",
    "        #img_num = file_name.split(\".\")[0]\n",
    "        img_num = get_image_num(img_path)\n",
    "        img = Image.open(img_path).convert('L')\n",
    "        img = img.resize((224,224), Image.ANTIALIAS)\n",
    "        test_data.append([np.array(img),img_num])\n",
    "        count+=1\n",
    "#     shuffle(test_data)\n",
    "    np.save(\"./data/testing_data.npy\", test_data)\n",
    "    return test_data"
   ]
  },
  {
   "cell_type": "code",
   "execution_count": 9,
   "metadata": {
    "collapsed": false
   },
   "outputs": [
    {
     "name": "stdout",
     "output_type": "stream",
     "text": [
      "Current: 1/25000\n",
      "Current: 2001/25000\n",
      "Current: 4001/25000\n",
      "Current: 6001/25000\n",
      "Current: 8001/25000\n",
      "Current: 10001/25000\n",
      "Current: 12001/25000\n",
      "Current: 14001/25000\n",
      "Current: 16001/25000\n",
      "Current: 18001/25000\n",
      "Current: 20001/25000\n",
      "Current: 22001/25000\n",
      "Current: 24001/25000\n",
      "Saving data\n"
     ]
    }
   ],
   "source": [
    "train_data = create_training_data()"
   ]
  },
  {
   "cell_type": "code",
   "execution_count": null,
   "metadata": {
    "collapsed": false
   },
   "outputs": [],
   "source": [
    "# create_test_data()"
   ]
  },
  {
   "cell_type": "code",
   "execution_count": null,
   "metadata": {
    "collapsed": false
   },
   "outputs": [],
   "source": [
    "print(\"Done.!!\")"
   ]
  },
  {
   "cell_type": "code",
   "execution_count": null,
   "metadata": {
    "collapsed": false
   },
   "outputs": [],
   "source": [
    "# import PIL.Image\n",
    "# from cStringIO import StringIO\n",
    "# import IPython.display\n",
    "# def showarray(a, fmt='png'):\n",
    "#     a = np.uint8(a)\n",
    "#     f = StringIO()\n",
    "#     PIL.Image.fromarray(a).save(f, fmt)\n",
    "#     IPython.display.display(IPython.display.Image(data=f.getvalue()))"
   ]
  },
  {
   "cell_type": "code",
   "execution_count": null,
   "metadata": {
    "collapsed": true
   },
   "outputs": [],
   "source": [
    "# train_data = np.load(\"./data/training_data.npy\")"
   ]
  },
  {
   "cell_type": "code",
   "execution_count": 10,
   "metadata": {
    "collapsed": false
   },
   "outputs": [],
   "source": [
    "img = Image.fromarray(train_data[0][0])\n",
    "img.show()"
   ]
  },
  {
   "cell_type": "code",
   "execution_count": null,
   "metadata": {
    "collapsed": true
   },
   "outputs": [],
   "source": []
  }
 ],
 "metadata": {
  "kernelspec": {
   "display_name": "Python [default]",
   "language": "python",
   "name": "python3"
  },
  "language_info": {
   "codemirror_mode": {
    "name": "ipython",
    "version": 3
   },
   "file_extension": ".py",
   "mimetype": "text/x-python",
   "name": "python",
   "nbconvert_exporter": "python",
   "pygments_lexer": "ipython3",
   "version": "3.5.3"
  }
 },
 "nbformat": 4,
 "nbformat_minor": 2
}
