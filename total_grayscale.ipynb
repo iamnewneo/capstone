{
 "cells": [
  {
   "cell_type": "code",
   "execution_count": null,
   "metadata": {
    "collapsed": false,
    "deletable": true,
    "editable": true
   },
   "outputs": [],
   "source": [
    "from keras.models import Sequential\n",
    "from keras.layers import Input, Dropout, Flatten, Convolution2D, MaxPooling2D, Dense, Activation\n",
    "from keras.callbacks import ModelCheckpoint, Callback, EarlyStopping\n",
    "from keras.utils import np_utils\n",
    "\n",
    "import numpy as np\n",
    "\n",
    "\n",
    "from sklearn.cross_validation import train_test_split\n",
    "\n",
    "from numpy import newaxis\n",
    "\n",
    "from sklearn.metrics import accuracy_score\n",
    "\n",
    "\n",
    "\n",
    "data = np.load(\"./data/training_data.npy\")\n",
    "\n",
    "\n",
    "## Data Preprocessing and Reshaping\n",
    "X = [x[0]/255 for x in data]\n",
    "y = [1 if y[1][0] == 1 else 0 for y in data]\n",
    "\n",
    "X_cnn = [x[:,:,newaxis] for x in X]\n",
    "X_cnn= np.array(X_cnn)\n",
    "y = np.array(y)"
   ]
  },
  {
   "cell_type": "code",
   "execution_count": null,
   "metadata": {
    "collapsed": false,
    "deletable": true,
    "editable": true
   },
   "outputs": [],
   "source": [
    "X_train, X_test , y_train, y_test = train_test_split(X_cnn,y)\n",
    "\n",
    "print(\"*****************************************************\")\n",
    "print(\"Data Loaded and data split into training and testing.\")"
   ]
  },
  {
   "cell_type": "code",
   "execution_count": null,
   "metadata": {
    "collapsed": true,
    "deletable": true,
    "editable": true
   },
   "outputs": [],
   "source": [
    "def create_grayscale_10_layer_model():\n",
    "    optimizer = 'adam'\n",
    "    objective = 'binary_crossentropy'\n",
    "\n",
    "    model = Sequential()\n",
    "\n",
    "    model.add(Convolution2D(64, 3, 3, border_mode='same', input_shape=(224, 224, 1), activation='relu'))\n",
    "    model.add(Convolution2D(64, 3, 3, border_mode='same', activation='relu'))\n",
    "    model.add(MaxPooling2D(pool_size=(2, 2)))\n",
    "\n",
    "    model.add(Convolution2D(128, 3, 3, border_mode='same', activation='relu'))\n",
    "    model.add(Convolution2D(128, 3, 3, border_mode='same', activation='relu'))\n",
    "    model.add(MaxPooling2D(pool_size=(2, 2)))\n",
    "\n",
    "    model.add(Convolution2D(256, 3, 3, border_mode='same', activation='relu'))\n",
    "    model.add(Convolution2D(256, 3, 3, border_mode='same', activation='relu'))\n",
    "    model.add(Convolution2D(256, 3, 3, border_mode='same', activation='relu'))\n",
    "\n",
    "    model.add(MaxPooling2D(pool_size=(2, 2)))\n",
    "\n",
    "    # model.add(Flatten())\n",
    "    # model.add(Dense(256, activation='relu'))\n",
    "    # model.add(Dropout(0.5))\n",
    "\n",
    "    # model.add(Dense(256, activation='relu'))\n",
    "    # model.add(Dropout(0.5))\n",
    "\n",
    "    model.add(Flatten())\n",
    "    model.add(Dense(256, activation='relu'))\n",
    "    model.add(Dropout(0.5))\n",
    "\n",
    "    model.add(Dense(256, activation='relu'))\n",
    "    model.add(Dropout(0.5))\n",
    "\n",
    "    model.add(Dense(1))\n",
    "    model.add(Activation('sigmoid'))\n",
    "\n",
    "    model.compile(loss=objective, optimizer=optimizer, metrics=['accuracy'])\n",
    "\n",
    "    return model\n",
    "\n",
    "## Callback for loss logging per epoch\n",
    "class LossHistory(Callback):\n",
    "    def on_train_begin(self, logs={}):\n",
    "        self.losses = []\n",
    "        self.val_losses = []\n",
    "\n",
    "    def on_epoch_end(self, batch, logs={}):\n",
    "        self.losses.append(logs.get('loss'))\n",
    "        self.val_losses.append(logs.get('val_loss'))"
   ]
  },
  {
   "cell_type": "code",
   "execution_count": null,
   "metadata": {
    "collapsed": false,
    "deletable": true,
    "editable": true
   },
   "outputs": [],
   "source": [
    "gray_10_layer_model = create_grayscale_10_layer_model()\n",
    "\n",
    "\n",
    "\n",
    "print(\"***************************************************\")\n",
    "print(\"***************************************************\")\n",
    "print(\"***************************************************\")\n",
    "print(\"***************************************************\")\n",
    "print(\"Fitting 10 Layers CNN Grayscale..\")\n",
    "\n",
    "epochs = 25\n",
    "history_10_layer = LossHistory()\n",
    "gray_10_layer_model.fit(X_train, y_train, validation_split=0.25, nb_epoch=epochs, batch_size=32, verbose=2, shuffle=True, callbacks=[history_10_layer])"
   ]
  },
  {
   "cell_type": "code",
   "execution_count": null,
   "metadata": {
    "collapsed": true,
    "deletable": true,
    "editable": true
   },
   "outputs": [],
   "source": [
    "predictions_10_layer = gray_10_layer_model.predict(X_test)\n",
    "gray_10_layer_accuracy = accuracy_score(y_test, predictions_10_layer)\n",
    "\n",
    "\n",
    "print(\"The accuracy of 10 Layers CNN Grayscale model is: \" + str(gray_10_layer_accuracy))\n",
    "\n",
    "\n",
    "print(\"***************************************************\")\n",
    "print(\"***************************************************\")\n",
    "print(\"Saving 10 Layers CNN Grayscale Model\")\n",
    "gray_10_layer_model.save(\"grayscale_cnn_10_layers.h5\")\n",
    "grayscale_cnn_10_layers_val_losses = np.array(history_10_layer.val_losses)\n",
    "grayscale_cnn_10_layers_losses = np.array(history_10_layer.losses)\n",
    "np.save(\"grayscale_cnn_10_layers_val_losses.npy\", grayscale_cnn_10_layers_val_losses)\n",
    "np.save(\"grayscale_cnn_10_layers_losses.npy\", grayscale_cnn_10_layers_losses)"
   ]
  },
  {
   "cell_type": "code",
   "execution_count": null,
   "metadata": {
    "collapsed": true,
    "deletable": true,
    "editable": true
   },
   "outputs": [],
   "source": [
    "def create_grayscale_13_layer_model():\n",
    "    optimizer = 'adam'\n",
    "    objective = 'binary_crossentropy'\n",
    "\n",
    "    model = Sequential()\n",
    "\n",
    "    model.add(Convolution2D(64, 3, 3, border_mode='same', input_shape=(224, 224, 1), activation='relu'))\n",
    "    model.add(Convolution2D(64, 3, 3, border_mode='same', activation='relu'))\n",
    "    model.add(MaxPooling2D(pool_size=(2, 2)))\n",
    "\n",
    "    model.add(Convolution2D(128, 3, 3, border_mode='same', activation='relu'))\n",
    "    model.add(Convolution2D(128, 3, 3, border_mode='same', activation='relu'))\n",
    "    model.add(MaxPooling2D(pool_size=(2, 2)))\n",
    "\n",
    "    model.add(Convolution2D(256, 3, 3, border_mode='same', activation='relu'))\n",
    "    model.add(Convolution2D(256, 3, 3, border_mode='same', activation='relu'))\n",
    "    model.add(Convolution2D(256, 3, 3, border_mode='same', activation='relu'))\n",
    "    model.add(MaxPooling2D(pool_size=(2, 2)))\n",
    "\n",
    "\n",
    "    model.add(Convolution2D(512, 3, 3, border_mode='same', activation='relu'))\n",
    "    model.add(Convolution2D(512, 3, 3, border_mode='same', activation='relu'))\n",
    "    model.add(Convolution2D(512, 3, 3, border_mode='same', activation='relu'))\n",
    "    model.add(MaxPooling2D(pool_size=(2, 2)))\n",
    "\n",
    "\n",
    "    model.add(Flatten())\n",
    "    model.add(Dense(512, activation='relu'))\n",
    "    model.add(Dropout(0.5))\n",
    "\n",
    "    model.add(Dense(512, activation='relu'))\n",
    "    model.add(Dropout(0.5))\n",
    "\n",
    "    model.add(Dense(1))\n",
    "    model.add(Activation('sigmoid'))\n",
    "\n",
    "    model.compile(loss=objective, optimizer=optimizer, metrics=['accuracy'])\n",
    "\n",
    "    return model\n",
    "\n",
    "\n",
    "print(\"***************************************************\")\n",
    "print(\"***************************************************\")\n",
    "print(\"***************************************************\")\n",
    "print(\"***************************************************\")\n",
    "print(\"Fitting 13 Layers CNN Grayscale..\")\n",
    "\n",
    "epochs = 25\n",
    "history_13_layer = LossHistory()\n",
    "gray_13_layer_model.fit(X_train, y_train, validation_split=0.25, nb_epoch=epochs, batch_size=32, verbose=2, shuffle=True, callbacks=[history_13_layer])"
   ]
  },
  {
   "cell_type": "code",
   "execution_count": null,
   "metadata": {
    "collapsed": false,
    "deletable": true,
    "editable": true
   },
   "outputs": [],
   "source": [
    "predictions_13_layer = gray_13_layer_model.predict(X_test)\n",
    "gray_13_layer_accuracy = accuracy_score(y_test, predictions_13_layer)\n",
    "\n",
    "\n",
    "print(\"The accuracy of 13 Layers CNN Grayscale model is: \" + str(gray_13_layer_accuracy))\n",
    "\n",
    "\n",
    "print(\"***************************************************\")\n",
    "print(\"***************************************************\")\n",
    "print(\"Saving 13 Layers CNN Grayscale Model\")\n",
    "gray_13_layer_model.save(\"grayscale_cnn_13_layers.h5\")\n",
    "grayscale_cnn_13_layers_val_losses = np.array(history_13_layer.val_losses)\n",
    "grayscale_cnn_13_layers_losses = np.array(history_13_layer.losses)\n",
    "np.save(\"grayscale_cnn_13_layers_val_losses.npy\", grayscale_cnn_13_layers_val_losses)\n",
    "np.save(\"grayscale_cnn_13_layers_losses.npy\", grayscale_cnn_13_layers_losses)"
   ]
  },
  {
   "cell_type": "code",
   "execution_count": null,
   "metadata": {
    "collapsed": true,
    "deletable": true,
    "editable": true
   },
   "outputs": [],
   "source": []
  }
 ],
 "metadata": {
  "kernelspec": {
   "display_name": "Python 3",
   "language": "python",
   "name": "python3"
  },
  "language_info": {
   "codemirror_mode": {
    "name": "ipython",
    "version": 3
   },
   "file_extension": ".py",
   "mimetype": "text/x-python",
   "name": "python",
   "nbconvert_exporter": "python",
   "pygments_lexer": "ipython3",
   "version": "3.5.3"
  }
 },
 "nbformat": 4,
 "nbformat_minor": 2
}
