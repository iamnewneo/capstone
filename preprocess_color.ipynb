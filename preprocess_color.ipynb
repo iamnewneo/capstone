{
 "cells": [
  {
   "cell_type": "code",
   "execution_count": 1,
   "metadata": {
    "collapsed": true
   },
   "outputs": [],
   "source": [
    "import numpy as np\n",
    "from PIL import Image\n",
    "from random import shuffle"
   ]
  },
  {
   "cell_type": "code",
   "execution_count": 2,
   "metadata": {
    "collapsed": true
   },
   "outputs": [],
   "source": [
    "from matplotlib.pyplot import imshow\n",
    "%matplotlib inline"
   ]
  },
  {
   "cell_type": "code",
   "execution_count": 3,
   "metadata": {
    "collapsed": true
   },
   "outputs": [],
   "source": [
    "import os"
   ]
  },
  {
   "cell_type": "code",
   "execution_count": 4,
   "metadata": {
    "collapsed": true
   },
   "outputs": [],
   "source": [
    "import glob"
   ]
  },
  {
   "cell_type": "code",
   "execution_count": 5,
   "metadata": {
    "collapsed": true
   },
   "outputs": [],
   "source": [
    "def get_image_label(img_path):\n",
    "    file_name = os.path.basename(img_path)\n",
    "    label = file_name.split(\".\")[0]\n",
    "    if label == \"cat\":\n",
    "        return [1,0]\n",
    "    else:\n",
    "        return [0,1]"
   ]
  },
  {
   "cell_type": "code",
   "execution_count": 6,
   "metadata": {
    "collapsed": true
   },
   "outputs": [],
   "source": [
    "def create_training_data():\n",
    "    training_data = []\n",
    "    all_train_images = glob.glob(\"./data/train/*.jpg\")\n",
    "#     all_train_images = all_train_images[:200]\n",
    "    count = 0\n",
    "    total = len(all_train_images)\n",
    "    for img_path in all_train_images:\n",
    "        if count%2000 == 0:\n",
    "            print(\"Current: \" +str(count+1)+\"/\"+str(total))\n",
    "        label = get_image_label(img_path)\n",
    "        img = Image.open(img_path).convert('RGB')\n",
    "        img = img.resize((224,224), Image.ANTIALIAS)\n",
    "#         training_data = np.concatenate((training_data, [np.array(img),np.array(label)]))\n",
    "        training_data.append([np.array(img),np.array(label)])\n",
    "        count+=1\n",
    "    training_data= np.array(training_data)\n",
    "    shuffle(training_data)\n",
    "    print(\"Saving data\")\n",
    "    np.save(\"./data/training_color_data.npy\", training_data)\n",
    "    return training_data"
   ]
  },
  {
   "cell_type": "code",
   "execution_count": null,
   "metadata": {
    "collapsed": false
   },
   "outputs": [
    {
     "name": "stdout",
     "output_type": "stream",
     "text": [
      "Current: 1/25000\n",
      "Current: 2001/25000\n",
      "Current: 4001/25000\n",
      "Current: 6001/25000\n",
      "Current: 8001/25000\n",
      "Current: 10001/25000\n",
      "Current: 12001/25000\n",
      "Current: 14001/25000\n",
      "Current: 16001/25000\n",
      "Current: 18001/25000\n",
      "Current: 20001/25000\n"
     ]
    }
   ],
   "source": [
    "train_data = create_training_data()"
   ]
  },
  {
   "cell_type": "code",
   "execution_count": null,
   "metadata": {
    "collapsed": true
   },
   "outputs": [],
   "source": []
  }
 ],
 "metadata": {
  "kernelspec": {
   "display_name": "Python [conda root]",
   "language": "python",
   "name": "conda-root-py"
  },
  "language_info": {
   "codemirror_mode": {
    "name": "ipython",
    "version": 3
   },
   "file_extension": ".py",
   "mimetype": "text/x-python",
   "name": "python",
   "nbconvert_exporter": "python",
   "pygments_lexer": "ipython3",
   "version": "3.5.3"
  }
 },
 "nbformat": 4,
 "nbformat_minor": 2
}
